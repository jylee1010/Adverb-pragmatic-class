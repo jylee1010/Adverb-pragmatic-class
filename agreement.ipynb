{
 "cells": [
  {
   "cell_type": "code",
   "execution_count": 1,
   "id": "67aa0f69-11dd-4a88-bfe4-051dd25447aa",
   "metadata": {},
   "outputs": [],
   "source": [
    "from sklearn.metrics import cohen_kappa_score\n",
    "from krippendorff import krippendorff_alpha\n",
    "import pandas as pd\n",
    "import numpy"
   ]
  },
  {
   "cell_type": "code",
   "execution_count": 18,
   "id": "e80c1422-6d32-40f1-bbdb-3e5e797546f3",
   "metadata": {},
   "outputs": [],
   "source": [
    "data = pd.read_csv(\"adverb_os_llm.csv\")"
   ]
  },
  {
   "cell_type": "code",
   "execution_count": 19,
   "id": "14ec1c97-c1bc-4899-9aa4-b07b7d6d2c30",
   "metadata": {},
   "outputs": [
    {
     "data": {
      "text/html": [
       "<div>\n",
       "<style scoped>\n",
       "    .dataframe tbody tr th:only-of-type {\n",
       "        vertical-align: middle;\n",
       "    }\n",
       "\n",
       "    .dataframe tbody tr th {\n",
       "        vertical-align: top;\n",
       "    }\n",
       "\n",
       "    .dataframe thead th {\n",
       "        text-align: right;\n",
       "    }\n",
       "</style>\n",
       "<table border=\"1\" class=\"dataframe\">\n",
       "  <thead>\n",
       "    <tr style=\"text-align: right;\">\n",
       "      <th></th>\n",
       "      <th>adverb</th>\n",
       "      <th>cluster</th>\n",
       "      <th>sentence</th>\n",
       "      <th>jooyoung</th>\n",
       "      <th>Column 1</th>\n",
       "      <th>jader</th>\n",
       "      <th>Column 1.1</th>\n",
       "      <th>match?</th>\n",
       "      <th>Column 2</th>\n",
       "      <th>type</th>\n",
       "    </tr>\n",
       "  </thead>\n",
       "  <tbody>\n",
       "    <tr>\n",
       "      <th>0</th>\n",
       "      <td>arrogantly</td>\n",
       "      <td>0</td>\n",
       "      <td>maybe &lt;t&gt;arrogantly&lt;/t&gt; is a better word.</td>\n",
       "      <td>NaN</td>\n",
       "      <td>NaN</td>\n",
       "      <td>NaN</td>\n",
       "      <td>?</td>\n",
       "      <td>NaN</td>\n",
       "      <td>Answer: adverb.manner</td>\n",
       "      <td>adverb.manner</td>\n",
       "    </tr>\n",
       "    <tr>\n",
       "      <th>1</th>\n",
       "      <td>arrogantly</td>\n",
       "      <td>1</td>\n",
       "      <td>if you have three steps to do, and you take th...</td>\n",
       "      <td>manner</td>\n",
       "      <td>NaN</td>\n",
       "      <td>manner</td>\n",
       "      <td>NaN</td>\n",
       "      <td>NaN</td>\n",
       "      <td>Answer: adverb.manner</td>\n",
       "      <td>adverb.manner</td>\n",
       "    </tr>\n",
       "    <tr>\n",
       "      <th>2</th>\n",
       "      <td>arrogantly</td>\n",
       "      <td>2</td>\n",
       "      <td>that is so &lt;t&gt;arrogantly&lt;/t&gt; phallic!</td>\n",
       "      <td>degree</td>\n",
       "      <td>?</td>\n",
       "      <td>manner</td>\n",
       "      <td>NaN</td>\n",
       "      <td>*</td>\n",
       "      <td>Answer: adverb.manner</td>\n",
       "      <td>adverb.manner</td>\n",
       "    </tr>\n",
       "    <tr>\n",
       "      <th>3</th>\n",
       "      <td>boldly</td>\n",
       "      <td>0</td>\n",
       "      <td>its continuing mission, to explore strange new...</td>\n",
       "      <td>manner</td>\n",
       "      <td>NaN</td>\n",
       "      <td>manner</td>\n",
       "      <td>NaN</td>\n",
       "      <td>NaN</td>\n",
       "      <td>Answer: adverb.manner</td>\n",
       "      <td>adverb.manner</td>\n",
       "    </tr>\n",
       "    <tr>\n",
       "      <th>4</th>\n",
       "      <td>boldly</td>\n",
       "      <td>1</td>\n",
       "      <td>the swimming-pool, &lt;t&gt;boldly&lt;/t&gt; projected in ...</td>\n",
       "      <td>manner</td>\n",
       "      <td>NaN</td>\n",
       "      <td>manner</td>\n",
       "      <td>NaN</td>\n",
       "      <td>NaN</td>\n",
       "      <td>Answer: adverb.manner</td>\n",
       "      <td>adverb.manner</td>\n",
       "    </tr>\n",
       "  </tbody>\n",
       "</table>\n",
       "</div>"
      ],
      "text/plain": [
       "       adverb  cluster                                           sentence  \\\n",
       "0  arrogantly        0          maybe <t>arrogantly</t> is a better word.   \n",
       "1  arrogantly        1  if you have three steps to do, and you take th...   \n",
       "2  arrogantly        2              that is so <t>arrogantly</t> phallic!   \n",
       "3      boldly        0  its continuing mission, to explore strange new...   \n",
       "4      boldly        1  the swimming-pool, <t>boldly</t> projected in ...   \n",
       "\n",
       "  jooyoung Column 1   jader Column 1.1 match?               Column 2  \\\n",
       "0      NaN      NaN     NaN          ?    NaN  Answer: adverb.manner   \n",
       "1   manner      NaN  manner        NaN    NaN  Answer: adverb.manner   \n",
       "2   degree        ?  manner        NaN      *  Answer: adverb.manner   \n",
       "3   manner      NaN  manner        NaN    NaN  Answer: adverb.manner   \n",
       "4   manner      NaN  manner        NaN    NaN  Answer: adverb.manner   \n",
       "\n",
       "            type  \n",
       "0  adverb.manner  \n",
       "1  adverb.manner  \n",
       "2  adverb.manner  \n",
       "3  adverb.manner  \n",
       "4  adverb.manner  "
      ]
     },
     "execution_count": 19,
     "metadata": {},
     "output_type": "execute_result"
    }
   ],
   "source": [
    "data.head()"
   ]
  },
  {
   "cell_type": "code",
   "execution_count": 20,
   "id": "91d4a9cf-6c58-47ed-86b4-fad681e4ace2",
   "metadata": {},
   "outputs": [],
   "source": [
    "data[\"llm\"] = data[\"type\"].str.lstrip(\"adverb.\")"
   ]
  },
  {
   "cell_type": "code",
   "execution_count": 21,
   "id": "b2b22af8-5038-4979-98c9-a301ecbac8b2",
   "metadata": {},
   "outputs": [
    {
     "data": {
      "text/html": [
       "<div>\n",
       "<style scoped>\n",
       "    .dataframe tbody tr th:only-of-type {\n",
       "        vertical-align: middle;\n",
       "    }\n",
       "\n",
       "    .dataframe tbody tr th {\n",
       "        vertical-align: top;\n",
       "    }\n",
       "\n",
       "    .dataframe thead th {\n",
       "        text-align: right;\n",
       "    }\n",
       "</style>\n",
       "<table border=\"1\" class=\"dataframe\">\n",
       "  <thead>\n",
       "    <tr style=\"text-align: right;\">\n",
       "      <th></th>\n",
       "      <th>adverb</th>\n",
       "      <th>cluster</th>\n",
       "      <th>sentence</th>\n",
       "      <th>jooyoung</th>\n",
       "      <th>Column 1</th>\n",
       "      <th>jader</th>\n",
       "      <th>Column 1.1</th>\n",
       "      <th>match?</th>\n",
       "      <th>Column 2</th>\n",
       "      <th>type</th>\n",
       "      <th>llm</th>\n",
       "    </tr>\n",
       "  </thead>\n",
       "  <tbody>\n",
       "    <tr>\n",
       "      <th>0</th>\n",
       "      <td>arrogantly</td>\n",
       "      <td>0</td>\n",
       "      <td>maybe &lt;t&gt;arrogantly&lt;/t&gt; is a better word.</td>\n",
       "      <td>NaN</td>\n",
       "      <td>NaN</td>\n",
       "      <td>NaN</td>\n",
       "      <td>?</td>\n",
       "      <td>NaN</td>\n",
       "      <td>Answer: adverb.manner</td>\n",
       "      <td>adverb.manner</td>\n",
       "      <td>manner</td>\n",
       "    </tr>\n",
       "    <tr>\n",
       "      <th>1</th>\n",
       "      <td>arrogantly</td>\n",
       "      <td>1</td>\n",
       "      <td>if you have three steps to do, and you take th...</td>\n",
       "      <td>manner</td>\n",
       "      <td>NaN</td>\n",
       "      <td>manner</td>\n",
       "      <td>NaN</td>\n",
       "      <td>NaN</td>\n",
       "      <td>Answer: adverb.manner</td>\n",
       "      <td>adverb.manner</td>\n",
       "      <td>manner</td>\n",
       "    </tr>\n",
       "    <tr>\n",
       "      <th>2</th>\n",
       "      <td>arrogantly</td>\n",
       "      <td>2</td>\n",
       "      <td>that is so &lt;t&gt;arrogantly&lt;/t&gt; phallic!</td>\n",
       "      <td>degree</td>\n",
       "      <td>?</td>\n",
       "      <td>manner</td>\n",
       "      <td>NaN</td>\n",
       "      <td>*</td>\n",
       "      <td>Answer: adverb.manner</td>\n",
       "      <td>adverb.manner</td>\n",
       "      <td>manner</td>\n",
       "    </tr>\n",
       "    <tr>\n",
       "      <th>3</th>\n",
       "      <td>boldly</td>\n",
       "      <td>0</td>\n",
       "      <td>its continuing mission, to explore strange new...</td>\n",
       "      <td>manner</td>\n",
       "      <td>NaN</td>\n",
       "      <td>manner</td>\n",
       "      <td>NaN</td>\n",
       "      <td>NaN</td>\n",
       "      <td>Answer: adverb.manner</td>\n",
       "      <td>adverb.manner</td>\n",
       "      <td>manner</td>\n",
       "    </tr>\n",
       "    <tr>\n",
       "      <th>4</th>\n",
       "      <td>boldly</td>\n",
       "      <td>1</td>\n",
       "      <td>the swimming-pool, &lt;t&gt;boldly&lt;/t&gt; projected in ...</td>\n",
       "      <td>manner</td>\n",
       "      <td>NaN</td>\n",
       "      <td>manner</td>\n",
       "      <td>NaN</td>\n",
       "      <td>NaN</td>\n",
       "      <td>Answer: adverb.manner</td>\n",
       "      <td>adverb.manner</td>\n",
       "      <td>manner</td>\n",
       "    </tr>\n",
       "  </tbody>\n",
       "</table>\n",
       "</div>"
      ],
      "text/plain": [
       "       adverb  cluster                                           sentence  \\\n",
       "0  arrogantly        0          maybe <t>arrogantly</t> is a better word.   \n",
       "1  arrogantly        1  if you have three steps to do, and you take th...   \n",
       "2  arrogantly        2              that is so <t>arrogantly</t> phallic!   \n",
       "3      boldly        0  its continuing mission, to explore strange new...   \n",
       "4      boldly        1  the swimming-pool, <t>boldly</t> projected in ...   \n",
       "\n",
       "  jooyoung Column 1   jader Column 1.1 match?               Column 2  \\\n",
       "0      NaN      NaN     NaN          ?    NaN  Answer: adverb.manner   \n",
       "1   manner      NaN  manner        NaN    NaN  Answer: adverb.manner   \n",
       "2   degree        ?  manner        NaN      *  Answer: adverb.manner   \n",
       "3   manner      NaN  manner        NaN    NaN  Answer: adverb.manner   \n",
       "4   manner      NaN  manner        NaN    NaN  Answer: adverb.manner   \n",
       "\n",
       "            type     llm  \n",
       "0  adverb.manner  manner  \n",
       "1  adverb.manner  manner  \n",
       "2  adverb.manner  manner  \n",
       "3  adverb.manner  manner  \n",
       "4  adverb.manner  manner  "
      ]
     },
     "execution_count": 21,
     "metadata": {},
     "output_type": "execute_result"
    }
   ],
   "source": [
    "data.head()"
   ]
  },
  {
   "cell_type": "code",
   "execution_count": 22,
   "id": "5a3a3e04-b823-48da-ab2f-43124ecd077a",
   "metadata": {},
   "outputs": [],
   "source": [
    "df = data[[\"jooyoung\", \"jader\", \"llm\"]].dropna()"
   ]
  },
  {
   "cell_type": "code",
   "execution_count": 23,
   "id": "90ab4310-ed36-4c1f-aa27-9fa4061dd85f",
   "metadata": {},
   "outputs": [
    {
     "name": "stdout",
     "output_type": "stream",
     "text": [
      "Cohen's kappa: 0.3995643445948831\n"
     ]
    }
   ],
   "source": [
    "kappa = cohen_kappa_score(df[\"jooyoung\"], df[\"llm\"])\n",
    "print(\"Cohen's kappa:\", kappa)"
   ]
  },
  {
   "cell_type": "code",
   "execution_count": 24,
   "id": "be77d811-1a59-4907-8e59-2bbfbe4b08cc",
   "metadata": {},
   "outputs": [
    {
     "name": "stdout",
     "output_type": "stream",
     "text": [
      "Cohen's kappa: 0.3813545009288972\n"
     ]
    }
   ],
   "source": [
    "kappa = cohen_kappa_score(df[\"jader\"], df[\"llm\"])\n",
    "print(\"Cohen's kappa:\", kappa)"
   ]
  },
  {
   "cell_type": "code",
   "execution_count": 25,
   "id": "9f33ac96-1370-4f46-942f-401d8fd64c19",
   "metadata": {},
   "outputs": [
    {
     "name": "stdout",
     "output_type": "stream",
     "text": [
      "Cohen's kappa: 0.6230575109576305\n"
     ]
    }
   ],
   "source": [
    "kappa = cohen_kappa_score(df[\"jooyoung\"], df[\"jader\"])\n",
    "print(\"Cohen's kappa:\", kappa)"
   ]
  },
  {
   "cell_type": "code",
   "execution_count": 26,
   "id": "5f6867a5-d405-4e9c-91d3-849b9779f878",
   "metadata": {},
   "outputs": [
    {
     "data": {
      "text/plain": [
       "<Figure size 1300x2500 with 0 Axes>"
      ]
     },
     "metadata": {},
     "output_type": "display_data"
    },
    {
     "data": {
      "image/png": "[encoded data removed]",
      "text/plain": [
       "<Figure size 640x480 with 2 Axes>"
      ]
     },
     "metadata": {},
     "output_type": "display_data"
    }
   ],
   "source": [
    "from sklearn.metrics import confusion_matrix, ConfusionMatrixDisplay\n",
    "import matplotlib.pyplot as plt\n",
    "\n",
    "labels = df[\"jooyoung\"].unique()\n",
    "# Compute confusion matrix\n",
    "cm = confusion_matrix(df[\"jooyoung\"], df[\"llm\"], labels=labels)\n",
    "\n",
    "# Plot confusion matrix\n",
    "\n",
    "plt.figure(figsize=(13,25))\n",
    "disp = ConfusionMatrixDisplay(confusion_matrix=cm, display_labels=labels)\n",
    "disp.plot(cmap='Blues')\n",
    "plt.title(\"Confusion Matrix with Class Names\")\n",
    "plt.tight_layout()\n",
    "plt.savefig(\"cm.png\")"
   ]
  },
  {
   "cell_type": "code",
   "execution_count": 11,
   "id": "881ba45d-e008-4e06-ba1d-d0d66467f43c",
   "metadata": {},
   "outputs": [],
   "source": [
    "df = pd.read_csv(\"adverb_llm.csv\")"
   ]
  },
  {
   "cell_type": "code",
   "execution_count": 12,
   "id": "a4ad1a2d-c6f5-47f2-ad28-2021981c6bfd",
   "metadata": {},
   "outputs": [
    {
     "data": {
      "text/html": [
       "<div>\n",
       "<style scoped>\n",
       "    .dataframe tbody tr th:only-of-type {\n",
       "        vertical-align: middle;\n",
       "    }\n",
       "\n",
       "    .dataframe tbody tr th {\n",
       "        vertical-align: top;\n",
       "    }\n",
       "\n",
       "    .dataframe thead th {\n",
       "        text-align: right;\n",
       "    }\n",
       "</style>\n",
       "<table border=\"1\" class=\"dataframe\">\n",
       "  <thead>\n",
       "    <tr style=\"text-align: right;\">\n",
       "      <th></th>\n",
       "      <th>Unnamed: 0</th>\n",
       "      <th>adverb</th>\n",
       "      <th>cluster</th>\n",
       "      <th>sentence</th>\n",
       "      <th>entropy</th>\n",
       "      <th>type</th>\n",
       "    </tr>\n",
       "  </thead>\n",
       "  <tbody>\n",
       "    <tr>\n",
       "      <th>0</th>\n",
       "      <td>0</td>\n",
       "      <td>abjectly</td>\n",
       "      <td>0</td>\n",
       "      <td>You have gone and abjectly appealed...</td>\n",
       "      <td>1.779239e-02</td>\n",
       "      <td>adverb.manner</td>\n",
       "    </tr>\n",
       "    <tr>\n",
       "      <th>1</th>\n",
       "      <td>1</td>\n",
       "      <td>ably</td>\n",
       "      <td>0</td>\n",
       "      <td>and as the President of Chile, I shall carry o...</td>\n",
       "      <td>3.071035e-08</td>\n",
       "      <td>adverb.manner</td>\n",
       "    </tr>\n",
       "    <tr>\n",
       "      <th>2</th>\n",
       "      <td>2</td>\n",
       "      <td>ably</td>\n",
       "      <td>1</td>\n",
       "      <td>Every time he was irrefutably proved wrong, it...</td>\n",
       "      <td>2.203620e-09</td>\n",
       "      <td>adverb.manner</td>\n",
       "    </tr>\n",
       "    <tr>\n",
       "      <th>3</th>\n",
       "      <td>3</td>\n",
       "      <td>ably</td>\n",
       "      <td>2</td>\n",
       "      <td>I want you to be able to talk about their defe...</td>\n",
       "      <td>8.500102e-04</td>\n",
       "      <td>adverb.manner</td>\n",
       "    </tr>\n",
       "    <tr>\n",
       "      <th>4</th>\n",
       "      <td>4</td>\n",
       "      <td>ably</td>\n",
       "      <td>4</td>\n",
       "      <td>My brother has a mystical torture device burie...</td>\n",
       "      <td>2.089519e-08</td>\n",
       "      <td>adverb.manner</td>\n",
       "    </tr>\n",
       "  </tbody>\n",
       "</table>\n",
       "</div>"
      ],
      "text/plain": [
       "   Unnamed: 0    adverb  cluster  \\\n",
       "0           0  abjectly        0   \n",
       "1           1      ably        0   \n",
       "2           2      ably        1   \n",
       "3           3      ably        2   \n",
       "4           4      ably        4   \n",
       "\n",
       "                                            sentence       entropy  \\\n",
       "0             You have gone and abjectly appealed...  1.779239e-02   \n",
       "1  and as the President of Chile, I shall carry o...  3.071035e-08   \n",
       "2  Every time he was irrefutably proved wrong, it...  2.203620e-09   \n",
       "3  I want you to be able to talk about their defe...  8.500102e-04   \n",
       "4  My brother has a mystical torture device burie...  2.089519e-08   \n",
       "\n",
       "            type  \n",
       "0  adverb.manner  \n",
       "1  adverb.manner  \n",
       "2  adverb.manner  \n",
       "3  adverb.manner  \n",
       "4  adverb.manner  "
      ]
     },
     "execution_count": 12,
     "metadata": {},
     "output_type": "execute_result"
    }
   ],
   "source": [
    "df.head()"
   ]
  },
  {
   "cell_type": "code",
   "execution_count": 13,
   "id": "126b378d-0893-4874-924d-46391bb771ab",
   "metadata": {},
   "outputs": [],
   "source": [
    "df = df[df.type != \"adverb.manner\"].groupby([\"adverb\", \"type\"]).first().reset_index()"
   ]
  },
  {
   "cell_type": "code",
   "execution_count": 14,
   "id": "8727a9fe-8114-4974-a5a6-85da97e060e5",
   "metadata": {},
   "outputs": [
    {
     "data": {
      "text/html": [
       "<div>\n",
       "<style scoped>\n",
       "    .dataframe tbody tr th:only-of-type {\n",
       "        vertical-align: middle;\n",
       "    }\n",
       "\n",
       "    .dataframe tbody tr th {\n",
       "        vertical-align: top;\n",
       "    }\n",
       "\n",
       "    .dataframe thead th {\n",
       "        text-align: right;\n",
       "    }\n",
       "</style>\n",
       "<table border=\"1\" class=\"dataframe\">\n",
       "  <thead>\n",
       "    <tr style=\"text-align: right;\">\n",
       "      <th></th>\n",
       "      <th>adverb</th>\n",
       "      <th>type</th>\n",
       "      <th>Unnamed: 0</th>\n",
       "      <th>cluster</th>\n",
       "      <th>sentence</th>\n",
       "      <th>entropy</th>\n",
       "    </tr>\n",
       "  </thead>\n",
       "  <tbody>\n",
       "    <tr>\n",
       "      <th>0</th>\n",
       "      <td>ably</td>\n",
       "      <td>adverb.degree</td>\n",
       "      <td>6</td>\n",
       "      <td>8</td>\n",
       "      <td>Or are you implacably opposed to giving anyone...</td>\n",
       "      <td>1.712110e-06</td>\n",
       "    </tr>\n",
       "    <tr>\n",
       "      <th>1</th>\n",
       "      <td>absolutely</td>\n",
       "      <td>adverb.degree</td>\n",
       "      <td>16</td>\n",
       "      <td>0</td>\n",
       "      <td>Absolutely right! Fuck destiny, fate. All meta...</td>\n",
       "      <td>1.084782e-08</td>\n",
       "    </tr>\n",
       "    <tr>\n",
       "      <th>2</th>\n",
       "      <td>abstractly</td>\n",
       "      <td>adverb.domain</td>\n",
       "      <td>17</td>\n",
       "      <td>0</td>\n",
       "      <td>Abstractly, I knew it could happen.</td>\n",
       "      <td>6.242872e-04</td>\n",
       "    </tr>\n",
       "    <tr>\n",
       "      <th>3</th>\n",
       "      <td>absurdly</td>\n",
       "      <td>adverb.degree</td>\n",
       "      <td>18</td>\n",
       "      <td>0</td>\n",
       "      <td>Absurdly basic neuro-linguistic programming te...</td>\n",
       "      <td>6.596674e-07</td>\n",
       "    </tr>\n",
       "    <tr>\n",
       "      <th>4</th>\n",
       "      <td>abundantly</td>\n",
       "      <td>adverb.degree</td>\n",
       "      <td>19</td>\n",
       "      <td>1</td>\n",
       "      <td>Abundantly strong enough for just about any st...</td>\n",
       "      <td>2.370524e-04</td>\n",
       "    </tr>\n",
       "  </tbody>\n",
       "</table>\n",
       "</div>"
      ],
      "text/plain": [
       "       adverb           type  Unnamed: 0  cluster  \\\n",
       "0        ably  adverb.degree           6        8   \n",
       "1  absolutely  adverb.degree          16        0   \n",
       "2  abstractly  adverb.domain          17        0   \n",
       "3    absurdly  adverb.degree          18        0   \n",
       "4  abundantly  adverb.degree          19        1   \n",
       "\n",
       "                                            sentence       entropy  \n",
       "0  Or are you implacably opposed to giving anyone...  1.712110e-06  \n",
       "1  Absolutely right! Fuck destiny, fate. All meta...  1.084782e-08  \n",
       "2                Abstractly, I knew it could happen.  6.242872e-04  \n",
       "3  Absurdly basic neuro-linguistic programming te...  6.596674e-07  \n",
       "4  Abundantly strong enough for just about any st...  2.370524e-04  "
      ]
     },
     "execution_count": 14,
     "metadata": {},
     "output_type": "execute_result"
    }
   ],
   "source": [
    "df.head()"
   ]
  },
  {
   "cell_type": "code",
   "execution_count": 15,
   "id": "5e40651f-5b47-437d-8ede-272903d98d6a",
   "metadata": {},
   "outputs": [],
   "source": [
    "df.to_csv(\"adverb_remove.csv\")"
   ]
  },
  {
   "cell_type": "code",
   "execution_count": null,
   "id": "75ba18bc-1f9f-442a-a661-537d2beaee8d",
   "metadata": {},
   "outputs": [],
   "source": []
  }
 ],
 "metadata": {
  "kernelspec": {
   "display_name": "Python 3 (ipykernel)",
   "language": "python",
   "name": "python3"
  },
  "language_info": {
   "codemirror_mode": {
    "name": "ipython",
    "version": 3
   },
   "file_extension": ".py",
   "mimetype": "text/x-python",
   "name": "python",
   "nbconvert_exporter": "python",
   "pygments_lexer": "ipython3",
   "version": "3.13.5"
  }
 },
 "nbformat": 4,
 "nbformat_minor": 5
}
