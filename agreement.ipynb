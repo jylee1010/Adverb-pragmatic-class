{
 "cells": [
  {
   "cell_type": "code",
   "execution_count": 1,
   "id": "67aa0f69-11dd-4a88-bfe4-051dd25447aa",
   "metadata": {},
   "outputs": [],
   "source": [
    "from sklearn.metrics import cohen_kappa_score\n",
    "from krippendorff import krippendorff_alpha\n",
    "import pandas as pd\n",
    "import numpy"
   ]
  },
  {
   "cell_type": "code",
   "execution_count": 5,
   "id": "e80c1422-6d32-40f1-bbdb-3e5e797546f3",
   "metadata": {},
   "outputs": [],
   "source": [
    "data = pd.read_csv(\"adverb_annotations.csv\")"
   ]
  },
  {
   "cell_type": "code",
   "execution_count": 6,
   "id": "91d4a9cf-6c58-47ed-86b4-fad681e4ace2",
   "metadata": {},
   "outputs": [],
   "source": [
    "data[\"llm\"] = data[\"llm\"].str.lstrip(\"adverb.\")"
   ]
  },
  {
   "cell_type": "code",
   "execution_count": 7,
   "id": "b2b22af8-5038-4979-98c9-a301ecbac8b2",
   "metadata": {},
   "outputs": [
    {
     "data": {
      "text/html": [
       "<div>\n",
       "<style scoped>\n",
       "    .dataframe tbody tr th:only-of-type {\n",
       "        vertical-align: middle;\n",
       "    }\n",
       "\n",
       "    .dataframe tbody tr th {\n",
       "        vertical-align: top;\n",
       "    }\n",
       "\n",
       "    .dataframe thead th {\n",
       "        text-align: right;\n",
       "    }\n",
       "</style>\n",
       "<table border=\"1\" class=\"dataframe\">\n",
       "  <thead>\n",
       "    <tr style=\"text-align: right;\">\n",
       "      <th></th>\n",
       "      <th>adverb</th>\n",
       "      <th>cluster</th>\n",
       "      <th>sentence</th>\n",
       "      <th>jooyoung</th>\n",
       "      <th>scott</th>\n",
       "      <th>Column 1</th>\n",
       "      <th>jader</th>\n",
       "      <th>Column 1.1</th>\n",
       "      <th>match?</th>\n",
       "      <th>llm</th>\n",
       "      <th>Column 2</th>\n",
       "    </tr>\n",
       "  </thead>\n",
       "  <tbody>\n",
       "    <tr>\n",
       "      <th>0</th>\n",
       "      <td>arrogantly</td>\n",
       "      <td>0</td>\n",
       "      <td>maybe &lt;t&gt;arrogantly&lt;/t&gt; is a better word.</td>\n",
       "      <td>NaN</td>\n",
       "      <td>NaN</td>\n",
       "      <td>NaN</td>\n",
       "      <td>NaN</td>\n",
       "      <td>?</td>\n",
       "      <td>NaN</td>\n",
       "      <td>manner</td>\n",
       "      <td>NaN</td>\n",
       "    </tr>\n",
       "    <tr>\n",
       "      <th>1</th>\n",
       "      <td>arrogantly</td>\n",
       "      <td>1</td>\n",
       "      <td>if you have three steps to do, and you take th...</td>\n",
       "      <td>manner</td>\n",
       "      <td>NaN</td>\n",
       "      <td>NaN</td>\n",
       "      <td>manner</td>\n",
       "      <td>NaN</td>\n",
       "      <td>NaN</td>\n",
       "      <td>manner</td>\n",
       "      <td>NaN</td>\n",
       "    </tr>\n",
       "    <tr>\n",
       "      <th>2</th>\n",
       "      <td>arrogantly</td>\n",
       "      <td>2</td>\n",
       "      <td>that is so &lt;t&gt;arrogantly&lt;/t&gt; phallic!</td>\n",
       "      <td>degree</td>\n",
       "      <td>NaN</td>\n",
       "      <td>?</td>\n",
       "      <td>manner</td>\n",
       "      <td>NaN</td>\n",
       "      <td>*</td>\n",
       "      <td>manner</td>\n",
       "      <td>seems like manner. 'so' already is degree</td>\n",
       "    </tr>\n",
       "    <tr>\n",
       "      <th>3</th>\n",
       "      <td>boldly</td>\n",
       "      <td>0</td>\n",
       "      <td>its continuing mission, to explore strange new...</td>\n",
       "      <td>manner</td>\n",
       "      <td>NaN</td>\n",
       "      <td>NaN</td>\n",
       "      <td>manner</td>\n",
       "      <td>NaN</td>\n",
       "      <td>NaN</td>\n",
       "      <td>manner</td>\n",
       "      <td>NaN</td>\n",
       "    </tr>\n",
       "    <tr>\n",
       "      <th>4</th>\n",
       "      <td>boldly</td>\n",
       "      <td>1</td>\n",
       "      <td>the swimming-pool, &lt;t&gt;boldly&lt;/t&gt; projected in ...</td>\n",
       "      <td>manner</td>\n",
       "      <td>NaN</td>\n",
       "      <td>NaN</td>\n",
       "      <td>manner</td>\n",
       "      <td>NaN</td>\n",
       "      <td>NaN</td>\n",
       "      <td>manner</td>\n",
       "      <td>NaN</td>\n",
       "    </tr>\n",
       "  </tbody>\n",
       "</table>\n",
       "</div>"
      ],
      "text/plain": [
       "       adverb  cluster                                           sentence  \\\n",
       "0  arrogantly        0          maybe <t>arrogantly</t> is a better word.   \n",
       "1  arrogantly        1  if you have three steps to do, and you take th...   \n",
       "2  arrogantly        2              that is so <t>arrogantly</t> phallic!   \n",
       "3      boldly        0  its continuing mission, to explore strange new...   \n",
       "4      boldly        1  the swimming-pool, <t>boldly</t> projected in ...   \n",
       "\n",
       "  jooyoung scott Column 1   jader Column 1.1 match?     llm  \\\n",
       "0      NaN   NaN      NaN     NaN          ?    NaN  manner   \n",
       "1   manner   NaN      NaN  manner        NaN    NaN  manner   \n",
       "2   degree   NaN        ?  manner        NaN      *  manner   \n",
       "3   manner   NaN      NaN  manner        NaN    NaN  manner   \n",
       "4   manner   NaN      NaN  manner        NaN    NaN  manner   \n",
       "\n",
       "                                    Column 2  \n",
       "0                                        NaN  \n",
       "1                                        NaN  \n",
       "2  seems like manner. 'so' already is degree  \n",
       "3                                        NaN  \n",
       "4                                        NaN  "
      ]
     },
     "execution_count": 7,
     "metadata": {},
     "output_type": "execute_result"
    }
   ],
   "source": [
    "data.head()"
   ]
  },
  {
   "cell_type": "code",
   "execution_count": 8,
   "id": "5a3a3e04-b823-48da-ab2f-43124ecd077a",
   "metadata": {},
   "outputs": [],
   "source": [
    "df = data[[\"jooyoung\", \"jader\", \"llm\"]].dropna()"
   ]
  },
  {
   "cell_type": "code",
   "execution_count": 9,
   "id": "90ab4310-ed36-4c1f-aa27-9fa4061dd85f",
   "metadata": {},
   "outputs": [
    {
     "name": "stdout",
     "output_type": "stream",
     "text": [
      "Cohen's kappa: 0.3636205698401668\n"
     ]
    }
   ],
   "source": [
    "kappa = cohen_kappa_score(df[\"jooyoung\"], df[\"llm\"])\n",
    "print(\"Cohen's kappa:\", kappa)"
   ]
  },
  {
   "cell_type": "code",
   "execution_count": 11,
   "id": "be77d811-1a59-4907-8e59-2bbfbe4b08cc",
   "metadata": {},
   "outputs": [
    {
     "name": "stdout",
     "output_type": "stream",
     "text": [
      "Cohen's kappa: 0.37984296563264264\n"
     ]
    }
   ],
   "source": [
    "kappa = cohen_kappa_score(df[\"jader\"], df[\"llm\"])\n",
    "print(\"Cohen's kappa:\", kappa)"
   ]
  },
  {
   "cell_type": "code",
   "execution_count": 12,
   "id": "9f33ac96-1370-4f46-942f-401d8fd64c19",
   "metadata": {},
   "outputs": [
    {
     "name": "stdout",
     "output_type": "stream",
     "text": [
      "Cohen's kappa: 0.6230575109576305\n"
     ]
    }
   ],
   "source": [
    "kappa = cohen_kappa_score(df[\"jooyoung\"], df[\"jader\"])\n",
    "print(\"Cohen's kappa:\", kappa)"
   ]
  },
  {
   "cell_type": "code",
   "execution_count": 22,
   "id": "5f6867a5-d405-4e9c-91d3-849b9779f878",
   "metadata": {},
   "outputs": [
    {
     "data": {
      "text/plain": [
       "<Figure size 1300x2500 with 0 Axes>"
      ]
     },
     "metadata": {},
     "output_type": "display_data"
    },
    {
     "data": {
      "image/png": "[encoded data removed]",
      "text/plain": [
       "<Figure size 640x480 with 2 Axes>"
      ]
     },
     "metadata": {},
     "output_type": "display_data"
    }
   ],
   "source": [
    "from sklearn.metrics import confusion_matrix, ConfusionMatrixDisplay\n",
    "import matplotlib.pyplot as plt\n",
    "\n",
    "labels = df[\"jooyoung\"].unique()\n",
    "# Compute confusion matrix\n",
    "cm = confusion_matrix(df[\"jooyoung\"], df[\"llm\"], labels=labels)\n",
    "\n",
    "# Plot confusion matrix\n",
    "\n",
    "plt.figure(figsize=(13,25))\n",
    "disp = ConfusionMatrixDisplay(confusion_matrix=cm, display_labels=labels)\n",
    "disp.plot(cmap='Blues')\n",
    "plt.title(\"Confusion Matrix with Class Names\")\n",
    "plt.tight_layout()\n",
    "plt.savefig(\"cm.png\")"
   ]
  },
  {
   "cell_type": "code",
   "execution_count": null,
   "id": "881ba45d-e008-4e06-ba1d-d0d66467f43c",
   "metadata": {},
   "outputs": [],
   "source": []
  }
 ],
 "metadata": {
  "kernelspec": {
   "display_name": "Python 3 (ipykernel)",
   "language": "python",
   "name": "python3"
  },
  "language_info": {
   "codemirror_mode": {
    "name": "ipython",
    "version": 3
   },
   "file_extension": ".py",
   "mimetype": "text/x-python",
   "name": "python",
   "nbconvert_exporter": "python",
   "pygments_lexer": "ipython3",
   "version": "3.13.5"
  }
 },
 "nbformat": 4,
 "nbformat_minor": 5
}
